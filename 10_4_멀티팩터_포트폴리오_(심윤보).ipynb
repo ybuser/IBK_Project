{
  "nbformat": 4,
  "nbformat_minor": 0,
  "metadata": {
    "colab": {
      "name": "10.4 멀티팩터 포트폴리오 (심윤보).ipynb",
      "provenance": [],
      "collapsed_sections": []
    },
    "kernelspec": {
      "name": "python3",
      "display_name": "Python 3"
    },
    "language_info": {
      "name": "python"
    },
    "widgets": {
      "application/vnd.jupyter.widget-state+json": {
        "3600d0eb181e4b389955b8242d4f2b44": {
          "model_module": "@jupyter-widgets/controls",
          "model_name": "HBoxModel",
          "model_module_version": "1.5.0",
          "state": {
            "_dom_classes": [],
            "_model_module": "@jupyter-widgets/controls",
            "_model_module_version": "1.5.0",
            "_model_name": "HBoxModel",
            "_view_count": null,
            "_view_module": "@jupyter-widgets/controls",
            "_view_module_version": "1.5.0",
            "_view_name": "HBoxView",
            "box_style": "",
            "children": [
              "IPY_MODEL_667a13cb348d441fbcbfed7113baeb9f",
              "IPY_MODEL_279cc73c98c448a88a9754499eabf46d",
              "IPY_MODEL_3d5b963766004726a45eeda8000217ba"
            ],
            "layout": "IPY_MODEL_4dd18555b2314d5f9cb0b8be5e743b61"
          }
        },
        "667a13cb348d441fbcbfed7113baeb9f": {
          "model_module": "@jupyter-widgets/controls",
          "model_name": "HTMLModel",
          "model_module_version": "1.5.0",
          "state": {
            "_dom_classes": [],
            "_model_module": "@jupyter-widgets/controls",
            "_model_module_version": "1.5.0",
            "_model_name": "HTMLModel",
            "_view_count": null,
            "_view_module": "@jupyter-widgets/controls",
            "_view_module_version": "1.5.0",
            "_view_name": "HTMLView",
            "description": "",
            "description_tooltip": null,
            "layout": "IPY_MODEL_dc3733a276d04e798465785ca5f73357",
            "placeholder": "​",
            "style": "IPY_MODEL_8e7364ace7a042d4b0f7c2a79012db9e",
            "value": "100%"
          }
        },
        "279cc73c98c448a88a9754499eabf46d": {
          "model_module": "@jupyter-widgets/controls",
          "model_name": "FloatProgressModel",
          "model_module_version": "1.5.0",
          "state": {
            "_dom_classes": [],
            "_model_module": "@jupyter-widgets/controls",
            "_model_module_version": "1.5.0",
            "_model_name": "FloatProgressModel",
            "_view_count": null,
            "_view_module": "@jupyter-widgets/controls",
            "_view_module_version": "1.5.0",
            "_view_name": "ProgressView",
            "bar_style": "success",
            "description": "",
            "description_tooltip": null,
            "layout": "IPY_MODEL_1ddbe34eaa0e4b019753fd4b36ea5274",
            "max": 200,
            "min": 0,
            "orientation": "horizontal",
            "style": "IPY_MODEL_98d9f52045a04dcca404aff31f620378",
            "value": 200
          }
        },
        "3d5b963766004726a45eeda8000217ba": {
          "model_module": "@jupyter-widgets/controls",
          "model_name": "HTMLModel",
          "model_module_version": "1.5.0",
          "state": {
            "_dom_classes": [],
            "_model_module": "@jupyter-widgets/controls",
            "_model_module_version": "1.5.0",
            "_model_name": "HTMLModel",
            "_view_count": null,
            "_view_module": "@jupyter-widgets/controls",
            "_view_module_version": "1.5.0",
            "_view_name": "HTMLView",
            "description": "",
            "description_tooltip": null,
            "layout": "IPY_MODEL_75d9c0e600214be78082acf6625155b7",
            "placeholder": "​",
            "style": "IPY_MODEL_48299cda1843493896b80bf4d4c0e63a",
            "value": " 200/200 [03:05&lt;00:00,  1.09it/s]"
          }
        },
        "4dd18555b2314d5f9cb0b8be5e743b61": {
          "model_module": "@jupyter-widgets/base",
          "model_name": "LayoutModel",
          "model_module_version": "1.2.0",
          "state": {
            "_model_module": "@jupyter-widgets/base",
            "_model_module_version": "1.2.0",
            "_model_name": "LayoutModel",
            "_view_count": null,
            "_view_module": "@jupyter-widgets/base",
            "_view_module_version": "1.2.0",
            "_view_name": "LayoutView",
            "align_content": null,
            "align_items": null,
            "align_self": null,
            "border": null,
            "bottom": null,
            "display": null,
            "flex": null,
            "flex_flow": null,
            "grid_area": null,
            "grid_auto_columns": null,
            "grid_auto_flow": null,
            "grid_auto_rows": null,
            "grid_column": null,
            "grid_gap": null,
            "grid_row": null,
            "grid_template_areas": null,
            "grid_template_columns": null,
            "grid_template_rows": null,
            "height": null,
            "justify_content": null,
            "justify_items": null,
            "left": null,
            "margin": null,
            "max_height": null,
            "max_width": null,
            "min_height": null,
            "min_width": null,
            "object_fit": null,
            "object_position": null,
            "order": null,
            "overflow": null,
            "overflow_x": null,
            "overflow_y": null,
            "padding": null,
            "right": null,
            "top": null,
            "visibility": null,
            "width": null
          }
        },
        "dc3733a276d04e798465785ca5f73357": {
          "model_module": "@jupyter-widgets/base",
          "model_name": "LayoutModel",
          "model_module_version": "1.2.0",
          "state": {
            "_model_module": "@jupyter-widgets/base",
            "_model_module_version": "1.2.0",
            "_model_name": "LayoutModel",
            "_view_count": null,
            "_view_module": "@jupyter-widgets/base",
            "_view_module_version": "1.2.0",
            "_view_name": "LayoutView",
            "align_content": null,
            "align_items": null,
            "align_self": null,
            "border": null,
            "bottom": null,
            "display": null,
            "flex": null,
            "flex_flow": null,
            "grid_area": null,
            "grid_auto_columns": null,
            "grid_auto_flow": null,
            "grid_auto_rows": null,
            "grid_column": null,
            "grid_gap": null,
            "grid_row": null,
            "grid_template_areas": null,
            "grid_template_columns": null,
            "grid_template_rows": null,
            "height": null,
            "justify_content": null,
            "justify_items": null,
            "left": null,
            "margin": null,
            "max_height": null,
            "max_width": null,
            "min_height": null,
            "min_width": null,
            "object_fit": null,
            "object_position": null,
            "order": null,
            "overflow": null,
            "overflow_x": null,
            "overflow_y": null,
            "padding": null,
            "right": null,
            "top": null,
            "visibility": null,
            "width": null
          }
        },
        "8e7364ace7a042d4b0f7c2a79012db9e": {
          "model_module": "@jupyter-widgets/controls",
          "model_name": "DescriptionStyleModel",
          "model_module_version": "1.5.0",
          "state": {
            "_model_module": "@jupyter-widgets/controls",
            "_model_module_version": "1.5.0",
            "_model_name": "DescriptionStyleModel",
            "_view_count": null,
            "_view_module": "@jupyter-widgets/base",
            "_view_module_version": "1.2.0",
            "_view_name": "StyleView",
            "description_width": ""
          }
        },
        "1ddbe34eaa0e4b019753fd4b36ea5274": {
          "model_module": "@jupyter-widgets/base",
          "model_name": "LayoutModel",
          "model_module_version": "1.2.0",
          "state": {
            "_model_module": "@jupyter-widgets/base",
            "_model_module_version": "1.2.0",
            "_model_name": "LayoutModel",
            "_view_count": null,
            "_view_module": "@jupyter-widgets/base",
            "_view_module_version": "1.2.0",
            "_view_name": "LayoutView",
            "align_content": null,
            "align_items": null,
            "align_self": null,
            "border": null,
            "bottom": null,
            "display": null,
            "flex": null,
            "flex_flow": null,
            "grid_area": null,
            "grid_auto_columns": null,
            "grid_auto_flow": null,
            "grid_auto_rows": null,
            "grid_column": null,
            "grid_gap": null,
            "grid_row": null,
            "grid_template_areas": null,
            "grid_template_columns": null,
            "grid_template_rows": null,
            "height": null,
            "justify_content": null,
            "justify_items": null,
            "left": null,
            "margin": null,
            "max_height": null,
            "max_width": null,
            "min_height": null,
            "min_width": null,
            "object_fit": null,
            "object_position": null,
            "order": null,
            "overflow": null,
            "overflow_x": null,
            "overflow_y": null,
            "padding": null,
            "right": null,
            "top": null,
            "visibility": null,
            "width": null
          }
        },
        "98d9f52045a04dcca404aff31f620378": {
          "model_module": "@jupyter-widgets/controls",
          "model_name": "ProgressStyleModel",
          "model_module_version": "1.5.0",
          "state": {
            "_model_module": "@jupyter-widgets/controls",
            "_model_module_version": "1.5.0",
            "_model_name": "ProgressStyleModel",
            "_view_count": null,
            "_view_module": "@jupyter-widgets/base",
            "_view_module_version": "1.2.0",
            "_view_name": "StyleView",
            "bar_color": null,
            "description_width": ""
          }
        },
        "75d9c0e600214be78082acf6625155b7": {
          "model_module": "@jupyter-widgets/base",
          "model_name": "LayoutModel",
          "model_module_version": "1.2.0",
          "state": {
            "_model_module": "@jupyter-widgets/base",
            "_model_module_version": "1.2.0",
            "_model_name": "LayoutModel",
            "_view_count": null,
            "_view_module": "@jupyter-widgets/base",
            "_view_module_version": "1.2.0",
            "_view_name": "LayoutView",
            "align_content": null,
            "align_items": null,
            "align_self": null,
            "border": null,
            "bottom": null,
            "display": null,
            "flex": null,
            "flex_flow": null,
            "grid_area": null,
            "grid_auto_columns": null,
            "grid_auto_flow": null,
            "grid_auto_rows": null,
            "grid_column": null,
            "grid_gap": null,
            "grid_row": null,
            "grid_template_areas": null,
            "grid_template_columns": null,
            "grid_template_rows": null,
            "height": null,
            "justify_content": null,
            "justify_items": null,
            "left": null,
            "margin": null,
            "max_height": null,
            "max_width": null,
            "min_height": null,
            "min_width": null,
            "object_fit": null,
            "object_position": null,
            "order": null,
            "overflow": null,
            "overflow_x": null,
            "overflow_y": null,
            "padding": null,
            "right": null,
            "top": null,
            "visibility": null,
            "width": null
          }
        },
        "48299cda1843493896b80bf4d4c0e63a": {
          "model_module": "@jupyter-widgets/controls",
          "model_name": "DescriptionStyleModel",
          "model_module_version": "1.5.0",
          "state": {
            "_model_module": "@jupyter-widgets/controls",
            "_model_module_version": "1.5.0",
            "_model_name": "DescriptionStyleModel",
            "_view_count": null,
            "_view_module": "@jupyter-widgets/base",
            "_view_module_version": "1.2.0",
            "_view_name": "StyleView",
            "description_width": ""
          }
        }
      }
    }
  },
  "cells": [
    {
      "cell_type": "markdown",
      "source": [
        "# 10.4 멀티팩터 포트폴리오\n",
        "\n",
        "앞에서 배웠던 팩터 이론들과 결합 방법들을 응용해 멀티팩터 포트폴리오를 구성해보겠습니다. 각 팩터에 사용되는 지표는 다음과 같습니다.\n",
        "\n",
        "\n",
        "\n",
        "*   퀄리티: 자기자본이익률, 매출총이익, 영업활동현금흐름\n",
        "*   밸류: PER, PBR, PSR, PCR \n",
        "*   모멘텀: 3개월 수익률, 6개월 수익률, 12개월 수익률\n",
        "\n"
      ],
      "metadata": {
        "id": "zLBrotddUDzp"
      }
    },
    {
      "cell_type": "code",
      "source": [
        ""
      ],
      "metadata": {
        "id": "ywyNO_YmfZ2f"
      },
      "execution_count": null,
      "outputs": []
    },
    {
      "cell_type": "code",
      "execution_count": 1,
      "metadata": {
        "colab": {
          "base_uri": "https://localhost:8080/"
        },
        "outputId": "d9cf06e0-01b9-4679-d7a8-18bbe4a436bb",
        "id": "sk1CFFbukQgZ"
      },
      "outputs": [
        {
          "output_type": "stream",
          "name": "stdout",
          "text": [
            "Collecting finance-datareader\n",
            "  Downloading finance_datareader-0.9.33-py3-none-any.whl (48 kB)\n",
            "\u001b[?25l\r\u001b[K     |██████▊                         | 10 kB 18.1 MB/s eta 0:00:01\r\u001b[K     |█████████████▍                  | 20 kB 24.0 MB/s eta 0:00:01\r\u001b[K     |████████████████████▏           | 30 kB 20.4 MB/s eta 0:00:01\r\u001b[K     |██████████████████████████▉     | 40 kB 15.5 MB/s eta 0:00:01\r\u001b[K     |████████████████████████████████| 48 kB 3.8 MB/s \n",
            "\u001b[?25hCollecting requests-file\n",
            "  Downloading requests_file-1.5.1-py2.py3-none-any.whl (3.7 kB)\n",
            "Requirement already satisfied: lxml in /usr/local/lib/python3.7/dist-packages (from finance-datareader) (4.2.6)\n",
            "Requirement already satisfied: pandas>=0.19.2 in /usr/local/lib/python3.7/dist-packages (from finance-datareader) (1.3.5)\n",
            "Requirement already satisfied: tqdm in /usr/local/lib/python3.7/dist-packages (from finance-datareader) (4.64.0)\n",
            "Requirement already satisfied: requests>=2.3.0 in /usr/local/lib/python3.7/dist-packages (from finance-datareader) (2.23.0)\n",
            "Requirement already satisfied: python-dateutil>=2.7.3 in /usr/local/lib/python3.7/dist-packages (from pandas>=0.19.2->finance-datareader) (2.8.2)\n",
            "Requirement already satisfied: numpy>=1.17.3 in /usr/local/lib/python3.7/dist-packages (from pandas>=0.19.2->finance-datareader) (1.21.6)\n",
            "Requirement already satisfied: pytz>=2017.3 in /usr/local/lib/python3.7/dist-packages (from pandas>=0.19.2->finance-datareader) (2022.1)\n",
            "Requirement already satisfied: six>=1.5 in /usr/local/lib/python3.7/dist-packages (from python-dateutil>=2.7.3->pandas>=0.19.2->finance-datareader) (1.15.0)\n",
            "Requirement already satisfied: urllib3!=1.25.0,!=1.25.1,<1.26,>=1.21.1 in /usr/local/lib/python3.7/dist-packages (from requests>=2.3.0->finance-datareader) (1.24.3)\n",
            "Requirement already satisfied: chardet<4,>=3.0.2 in /usr/local/lib/python3.7/dist-packages (from requests>=2.3.0->finance-datareader) (3.0.4)\n",
            "Requirement already satisfied: idna<3,>=2.5 in /usr/local/lib/python3.7/dist-packages (from requests>=2.3.0->finance-datareader) (2.10)\n",
            "Requirement already satisfied: certifi>=2017.4.17 in /usr/local/lib/python3.7/dist-packages (from requests>=2.3.0->finance-datareader) (2021.10.8)\n",
            "Installing collected packages: requests-file, finance-datareader\n",
            "Successfully installed finance-datareader-0.9.33 requests-file-1.5.1\n"
          ]
        }
      ],
      "source": [
        "!pip install -U finance-datareader"
      ]
    },
    {
      "cell_type": "code",
      "source": [
        "import pandas as pd\n",
        "import numpy as np\n",
        "import FinanceDataReader as fdr\n",
        "from matplotlib import pyplot as plt\n",
        "from tqdm.notebook import tqdm\n",
        "import scipy.stats as ss"
      ],
      "metadata": {
        "id": "ti2XEVhekVsF"
      },
      "execution_count": 82,
      "outputs": []
    },
    {
      "cell_type": "code",
      "source": [
        "#  시가총액(Market Capitalization) : 주식 값의 총합  (주가*발행주식수)\n",
        "df_krx = fdr.StockListing(\"KRX-MARCAP\") # 시가총액 데이터셋\n",
        "df_krx.iloc[63]"
      ],
      "metadata": {
        "colab": {
          "base_uri": "https://localhost:8080/"
        },
        "outputId": "e94b5786-581f-4490-e167-05ba909c2f1a",
        "id": "Cp3Ua1yFkVsL"
      },
      "execution_count": 23,
      "outputs": [
        {
          "output_type": "execute_result",
          "data": {
            "text/plain": [
              "Code                  032640\n",
              "Name                  LG유플러스\n",
              "Market                 KOSPI\n",
              "Dept                        \n",
              "Close                  13150\n",
              "ChangeCode                 2\n",
              "Changes                 -250\n",
              "ChagesRatio            -1.87\n",
              "Open                   13450\n",
              "High                   13500\n",
              "Low                    13100\n",
              "Volume               1372849\n",
              "Amount           18202317450\n",
              "Marcap         5741439397150\n",
              "Stocks             436611361\n",
              "MarketId                 STK\n",
              "Name: 64, dtype: object"
            ]
          },
          "metadata": {},
          "execution_count": 23
        }
      ]
    },
    {
      "cell_type": "code",
      "source": [
        "item_code = \"035250\"\n",
        "item_url = f\"https://finance.naver.com/item/main.nhn?code={item_code}\"\n",
        "tables = pd.read_html(item_url, encoding=\"cp949\")\n",
        "print(tables[3])\n",
        "print(tables[3].iloc[[10,12], :0:-1].transpose())"
      ],
      "metadata": {
        "colab": {
          "base_uri": "https://localhost:8080/"
        },
        "outputId": "e667a18c-059e-4ffc-e97d-2c3b1bffa02b",
        "id": "SCXjakYdkVsM"
      },
      "execution_count": 12,
      "outputs": [
        {
          "output_type": "stream",
          "name": "stdout",
          "text": [
            "       주요재무정보  최근 연간 실적                                최근 분기 실적            \\\n",
            "       주요재무정보   2019.12  2020.12   2021.12 2022.12(E)   2020.12   2021.03   \n",
            "       주요재무정보    IFRS연결   IFRS연결    IFRS연결     IFRS연결    IFRS연결    IFRS연결   \n",
            "0         매출액  15201.00     4786   7884.00   13439.00   1313.00    974.00   \n",
            "1        영업이익   5012.00    -4316   -527.00    3047.00   -761.00   -596.00   \n",
            "2       당기순이익   3347.00    -2759   -106.00    2389.00   -333.00   -409.00   \n",
            "3       영업이익률     32.97   -90.18     -6.68      22.67    -57.96    -61.19   \n",
            "4        순이익률     22.02   -57.65     -1.34      17.78    -25.39    -41.98   \n",
            "5   ROE(지배주주)      9.16    -7.92     -0.33       7.14     -7.92     -4.88   \n",
            "6        부채비율     19.38    12.15     17.66        NaN     12.15     12.30   \n",
            "7        당좌비율    274.17   324.65    270.31        NaN    324.65    312.24   \n",
            "8         유보율   3538.24  3098.20   3103.60        NaN   3098.20   3059.44   \n",
            "9      EPS(원)   1564.00    -1289    -49.00    1116.00   -156.00   -191.00   \n",
            "10     PER(배)     18.92   -18.23   -486.90      24.68    -18.23    -33.70   \n",
            "11     BPS(원)  18337.00    16016  16044.00   16949.00  16016.00  15811.00   \n",
            "12     PBR(배)      1.61     1.47      1.50       1.63      1.47      1.60   \n",
            "13   주당배당금(원)    900.00        -       NaN     650.00       NaN       NaN   \n",
            "14   시가배당률(%)      3.04        -       NaN        NaN       NaN       NaN   \n",
            "15    배당성향(%)     54.52        -       NaN        NaN       NaN       NaN   \n",
            "\n",
            "                                             \n",
            "     2021.06   2021.09   2021.12 2022.03(E)  \n",
            "      IFRS연결    IFRS연결    IFRS연결     IFRS연결  \n",
            "0    2036.00   2452.00   2421.00    2509.00  \n",
            "1      27.00    243.00   -200.00     247.00  \n",
            "2     209.00    204.00   -110.00     213.00  \n",
            "3       1.33      9.90     -8.28       9.86  \n",
            "4      10.27      8.32     -4.54       8.48  \n",
            "5      -2.87     -1.01     -0.33        NaN  \n",
            "6      13.46     14.72     17.66        NaN  \n",
            "7     301.07    297.10    270.31        NaN  \n",
            "8    3078.88   3097.68   3103.60        NaN  \n",
            "9      98.00     95.00    -51.00      65.00  \n",
            "10    -61.12   -186.34   -486.90     404.79  \n",
            "11  15914.00  16013.00  16044.00        NaN  \n",
            "12      1.69      1.79      1.50        NaN  \n",
            "13       NaN       NaN       NaN        NaN  \n",
            "14       NaN       NaN       NaN        NaN  \n",
            "15       NaN       NaN       NaN        NaN  \n",
            "                                10    12\n",
            "최근 분기 실적 2022.03(E) IFRS연결  404.79   NaN\n",
            "         2021.12    IFRS연결  -486.9   1.5\n",
            "         2021.09    IFRS연결 -186.34  1.79\n",
            "         2021.06    IFRS연결  -61.12  1.69\n",
            "         2021.03    IFRS연결   -33.7   1.6\n",
            "         2020.12    IFRS연결  -18.23  1.47\n",
            "최근 연간 실적 2022.12(E) IFRS연결   24.68  1.63\n",
            "         2021.12    IFRS연결  -486.9   1.5\n",
            "         2020.12    IFRS연결  -18.23  1.47\n",
            "         2019.12    IFRS연결   18.92  1.61\n"
          ]
        }
      ]
    },
    {
      "cell_type": "code",
      "source": [
        "\n",
        "# url = 'http://companyinfo.stock.naver.com/v1/company/c1030001.aspx?code=005930'\n",
        "# #http://companyinfo.stock.naver.com/v1/company/c1030001.aspx?cmp_cd=005930&fin_typ=0&freq_type=Y\n",
        "# #url = url_tmpl % ('005930', '4', 'Y') # 삼성전자, 4(IFRS 연결), Y:년 단위\n",
        "\n",
        "# dfs = pd.read_html(url, encoding=\"utf-8\")\n",
        "# #df = dfs[4]\n",
        "# #df = df.set_index('주요재무정보')\n",
        "# print(dfs)\n",
        "# #df.head()\n",
        "# #df.head(10) # 10개 항목만 표시(실제 32개 항목)"
      ],
      "metadata": {
        "id": "k6PkU4xiuEIu"
      },
      "execution_count": null,
      "outputs": []
    },
    {
      "cell_type": "code",
      "source": [
        "# DF_SIZE = 100\n",
        "\n",
        "# columns = [\"Code\", \"Name\", \"매출액\", \"영업이익\", \"당기순이익\", \"영업활동현금흐름\"]\n",
        "# df = pd.DataFrame(columns=columns)\n",
        "# for idx1, val1 in tqdm(df_krx.head(DF_SIZE).iterrows(), total=DF_SIZE):\n",
        "#   item_code = val1[\"Code\"]\n",
        "#   item_url = f'http://companyinfo.stock.naver.com/v1/company/ajax/cF1001.aspx?cmp_cd={item_code}&fin_typ=0&freq_typ=Y'\n",
        "#   #item_url = f\"https://finance.naver.com/item/main.nhn?code={item_code}\"\n",
        "#   tables = pd.read_html(item_url, encoding=\"cp949\")\n",
        "#   #tables = pd.read_html(item_url, encoding=\"utf-8\")\n",
        "#   print(tables)\n",
        "#   if len(tables[3]) < 13: \n",
        "#     continue\n",
        "#   for idx2, val2 in tables[3].iloc[[10,12], :0:-1].transpose().iterrows():\n",
        "#     per = val2[10]\n",
        "#     pbr = val2[12]\n",
        "#     if (not pd.isna(per)) and (not pd.isna(pbr)):\n",
        "#       df = df.append({\n",
        "#           \"Code\": val1[\"Code\"],\n",
        "#           \"Name\": val1[\"Name\"],\n",
        "#           \"PER\": float(per),\n",
        "#           \"PBR\": float(pbr)\n",
        "#       }, ignore_index=True)\n",
        "#       break\n",
        "# df"
      ],
      "metadata": {
        "id": "z-G1Vq_1kVsN"
      },
      "execution_count": null,
      "outputs": []
    },
    {
      "cell_type": "code",
      "source": [
        "item_code = \"035250\"\n",
        "item_url = f\"https://finance.naver.com/item/main.nhn?code={item_code}\"\n",
        "tables = pd.read_html(item_url, encoding=\"cp949\")\n",
        "#print(tables[3])\n",
        "#print(tables[3].iloc[[10,12], :0:-1].transpose())\n",
        "print(tables[3].iloc[:, 0].transpose())"
      ],
      "metadata": {
        "colab": {
          "base_uri": "https://localhost:8080/"
        },
        "id": "_StY4nt84NBm",
        "outputId": "af8dba1b-2d49-4290-aaf2-328fc536fe48"
      },
      "execution_count": 20,
      "outputs": [
        {
          "output_type": "stream",
          "name": "stdout",
          "text": [
            "0           매출액\n",
            "1          영업이익\n",
            "2         당기순이익\n",
            "3         영업이익률\n",
            "4          순이익률\n",
            "5     ROE(지배주주)\n",
            "6          부채비율\n",
            "7          당좌비율\n",
            "8           유보율\n",
            "9        EPS(원)\n",
            "10       PER(배)\n",
            "11       BPS(원)\n",
            "12       PBR(배)\n",
            "13     주당배당금(원)\n",
            "14     시가배당률(%)\n",
            "15      배당성향(%)\n",
            "Name: (주요재무정보, 주요재무정보, 주요재무정보), dtype: object\n"
          ]
        }
      ]
    },
    {
      "cell_type": "code",
      "source": [
        "DF_SIZE = 200\n",
        "\n",
        "columns = [\"Code\", \"Name\", \"ROE\", \"GPA\", \"PER\", \"PBR\"]\n",
        "df = pd.DataFrame(columns=columns)\n",
        "for idx1, val1 in tqdm(df_krx.head(DF_SIZE).iterrows(), total=DF_SIZE):\n",
        "  item_code = val1[\"Code\"]\n",
        "  item_url = f\"https://finance.naver.com/item/main.nhn?code={item_code}\"\n",
        "  tables = pd.read_html(item_url, encoding=\"cp949\")\n",
        "  if len(tables[3]) < 13: \n",
        "    continue\n",
        "  for idx2, val2 in tables[3].iloc[[1, 5, 10,12], :0:-1].transpose().iterrows():\n",
        "    roe = val2[5]\n",
        "    gpa = val2[1]\n",
        "    per = val2[10]\n",
        "    pbr = val2[12]\n",
        "    if (not pd.isna(per)) and (not pd.isna(pbr)):\n",
        "      df = df.append({\n",
        "          \"Code\": val1[\"Code\"],\n",
        "          \"Name\": val1[\"Name\"],\n",
        "          \"ROE\": float(roe),\n",
        "          \"GPA\": float(gpa),\n",
        "          \"PER\": float(per),\n",
        "          \"PBR\": float(pbr)\n",
        "      }, ignore_index=True)\n",
        "      break\n",
        "df"
      ],
      "metadata": {
        "colab": {
          "base_uri": "https://localhost:8080/",
          "height": 455,
          "referenced_widgets": [
            "3600d0eb181e4b389955b8242d4f2b44",
            "667a13cb348d441fbcbfed7113baeb9f",
            "279cc73c98c448a88a9754499eabf46d",
            "3d5b963766004726a45eeda8000217ba",
            "4dd18555b2314d5f9cb0b8be5e743b61",
            "dc3733a276d04e798465785ca5f73357",
            "8e7364ace7a042d4b0f7c2a79012db9e",
            "1ddbe34eaa0e4b019753fd4b36ea5274",
            "98d9f52045a04dcca404aff31f620378",
            "75d9c0e600214be78082acf6625155b7",
            "48299cda1843493896b80bf4d4c0e63a"
          ]
        },
        "id": "MI2UklLR4AO0",
        "outputId": "19694cf1-084b-440d-e5ec-73218171141d"
      },
      "execution_count": 38,
      "outputs": [
        {
          "output_type": "display_data",
          "data": {
            "text/plain": [
              "  0%|          | 0/200 [00:00<?, ?it/s]"
            ],
            "application/vnd.jupyter.widget-view+json": {
              "version_major": 2,
              "version_minor": 0,
              "model_id": "3600d0eb181e4b389955b8242d4f2b44"
            }
          },
          "metadata": {}
        },
        {
          "output_type": "execute_result",
          "data": {
            "text/plain": [
              "       Code      Name    ROE       GPA     PER    PBR\n",
              "0    005930      삼성전자  13.92  138667.0   13.55   1.80\n",
              "1    373220  LG에너지솔루션   6.91   12279.0  102.26   5.11\n",
              "2    000660    SK하이닉스  16.84   42195.0    9.93   1.45\n",
              "3    207940  삼성바이오로직스   8.21    1288.0  151.83  11.97\n",
              "4    005935     삼성전자우  13.92  138667.0   13.55   1.80\n",
              "..      ...       ...    ...       ...     ...    ...\n",
              "193  139130   DGB금융지주   9.63    1365.0    3.15   0.29\n",
              "194  067630   HLB생명과학 -18.43    -101.0  -23.93   4.83\n",
              "195  017800    현대엘리베이  10.62     379.0   14.87   1.50\n",
              "196  042700     한미반도체  34.59     357.0   18.06   5.40\n",
              "197  056190    에스에프에이  10.86     635.0   11.08   1.15\n",
              "\n",
              "[198 rows x 6 columns]"
            ],
            "text/html": [
              "\n",
              "  <div id=\"df-8843a7cb-ac71-4c67-8f8f-83a4038b26a8\">\n",
              "    <div class=\"colab-df-container\">\n",
              "      <div>\n",
              "<style scoped>\n",
              "    .dataframe tbody tr th:only-of-type {\n",
              "        vertical-align: middle;\n",
              "    }\n",
              "\n",
              "    .dataframe tbody tr th {\n",
              "        vertical-align: top;\n",
              "    }\n",
              "\n",
              "    .dataframe thead th {\n",
              "        text-align: right;\n",
              "    }\n",
              "</style>\n",
              "<table border=\"1\" class=\"dataframe\">\n",
              "  <thead>\n",
              "    <tr style=\"text-align: right;\">\n",
              "      <th></th>\n",
              "      <th>Code</th>\n",
              "      <th>Name</th>\n",
              "      <th>ROE</th>\n",
              "      <th>GPA</th>\n",
              "      <th>PER</th>\n",
              "      <th>PBR</th>\n",
              "    </tr>\n",
              "  </thead>\n",
              "  <tbody>\n",
              "    <tr>\n",
              "      <th>0</th>\n",
              "      <td>005930</td>\n",
              "      <td>삼성전자</td>\n",
              "      <td>13.92</td>\n",
              "      <td>138667.0</td>\n",
              "      <td>13.55</td>\n",
              "      <td>1.80</td>\n",
              "    </tr>\n",
              "    <tr>\n",
              "      <th>1</th>\n",
              "      <td>373220</td>\n",
              "      <td>LG에너지솔루션</td>\n",
              "      <td>6.91</td>\n",
              "      <td>12279.0</td>\n",
              "      <td>102.26</td>\n",
              "      <td>5.11</td>\n",
              "    </tr>\n",
              "    <tr>\n",
              "      <th>2</th>\n",
              "      <td>000660</td>\n",
              "      <td>SK하이닉스</td>\n",
              "      <td>16.84</td>\n",
              "      <td>42195.0</td>\n",
              "      <td>9.93</td>\n",
              "      <td>1.45</td>\n",
              "    </tr>\n",
              "    <tr>\n",
              "      <th>3</th>\n",
              "      <td>207940</td>\n",
              "      <td>삼성바이오로직스</td>\n",
              "      <td>8.21</td>\n",
              "      <td>1288.0</td>\n",
              "      <td>151.83</td>\n",
              "      <td>11.97</td>\n",
              "    </tr>\n",
              "    <tr>\n",
              "      <th>4</th>\n",
              "      <td>005935</td>\n",
              "      <td>삼성전자우</td>\n",
              "      <td>13.92</td>\n",
              "      <td>138667.0</td>\n",
              "      <td>13.55</td>\n",
              "      <td>1.80</td>\n",
              "    </tr>\n",
              "    <tr>\n",
              "      <th>...</th>\n",
              "      <td>...</td>\n",
              "      <td>...</td>\n",
              "      <td>...</td>\n",
              "      <td>...</td>\n",
              "      <td>...</td>\n",
              "      <td>...</td>\n",
              "    </tr>\n",
              "    <tr>\n",
              "      <th>193</th>\n",
              "      <td>139130</td>\n",
              "      <td>DGB금융지주</td>\n",
              "      <td>9.63</td>\n",
              "      <td>1365.0</td>\n",
              "      <td>3.15</td>\n",
              "      <td>0.29</td>\n",
              "    </tr>\n",
              "    <tr>\n",
              "      <th>194</th>\n",
              "      <td>067630</td>\n",
              "      <td>HLB생명과학</td>\n",
              "      <td>-18.43</td>\n",
              "      <td>-101.0</td>\n",
              "      <td>-23.93</td>\n",
              "      <td>4.83</td>\n",
              "    </tr>\n",
              "    <tr>\n",
              "      <th>195</th>\n",
              "      <td>017800</td>\n",
              "      <td>현대엘리베이</td>\n",
              "      <td>10.62</td>\n",
              "      <td>379.0</td>\n",
              "      <td>14.87</td>\n",
              "      <td>1.50</td>\n",
              "    </tr>\n",
              "    <tr>\n",
              "      <th>196</th>\n",
              "      <td>042700</td>\n",
              "      <td>한미반도체</td>\n",
              "      <td>34.59</td>\n",
              "      <td>357.0</td>\n",
              "      <td>18.06</td>\n",
              "      <td>5.40</td>\n",
              "    </tr>\n",
              "    <tr>\n",
              "      <th>197</th>\n",
              "      <td>056190</td>\n",
              "      <td>에스에프에이</td>\n",
              "      <td>10.86</td>\n",
              "      <td>635.0</td>\n",
              "      <td>11.08</td>\n",
              "      <td>1.15</td>\n",
              "    </tr>\n",
              "  </tbody>\n",
              "</table>\n",
              "<p>198 rows × 6 columns</p>\n",
              "</div>\n",
              "      <button class=\"colab-df-convert\" onclick=\"convertToInteractive('df-8843a7cb-ac71-4c67-8f8f-83a4038b26a8')\"\n",
              "              title=\"Convert this dataframe to an interactive table.\"\n",
              "              style=\"display:none;\">\n",
              "        \n",
              "  <svg xmlns=\"http://www.w3.org/2000/svg\" height=\"24px\"viewBox=\"0 0 24 24\"\n",
              "       width=\"24px\">\n",
              "    <path d=\"M0 0h24v24H0V0z\" fill=\"none\"/>\n",
              "    <path d=\"M18.56 5.44l.94 2.06.94-2.06 2.06-.94-2.06-.94-.94-2.06-.94 2.06-2.06.94zm-11 1L8.5 8.5l.94-2.06 2.06-.94-2.06-.94L8.5 2.5l-.94 2.06-2.06.94zm10 10l.94 2.06.94-2.06 2.06-.94-2.06-.94-.94-2.06-.94 2.06-2.06.94z\"/><path d=\"M17.41 7.96l-1.37-1.37c-.4-.4-.92-.59-1.43-.59-.52 0-1.04.2-1.43.59L10.3 9.45l-7.72 7.72c-.78.78-.78 2.05 0 2.83L4 21.41c.39.39.9.59 1.41.59.51 0 1.02-.2 1.41-.59l7.78-7.78 2.81-2.81c.8-.78.8-2.07 0-2.86zM5.41 20L4 18.59l7.72-7.72 1.47 1.35L5.41 20z\"/>\n",
              "  </svg>\n",
              "      </button>\n",
              "      \n",
              "  <style>\n",
              "    .colab-df-container {\n",
              "      display:flex;\n",
              "      flex-wrap:wrap;\n",
              "      gap: 12px;\n",
              "    }\n",
              "\n",
              "    .colab-df-convert {\n",
              "      background-color: #E8F0FE;\n",
              "      border: none;\n",
              "      border-radius: 50%;\n",
              "      cursor: pointer;\n",
              "      display: none;\n",
              "      fill: #1967D2;\n",
              "      height: 32px;\n",
              "      padding: 0 0 0 0;\n",
              "      width: 32px;\n",
              "    }\n",
              "\n",
              "    .colab-df-convert:hover {\n",
              "      background-color: #E2EBFA;\n",
              "      box-shadow: 0px 1px 2px rgba(60, 64, 67, 0.3), 0px 1px 3px 1px rgba(60, 64, 67, 0.15);\n",
              "      fill: #174EA6;\n",
              "    }\n",
              "\n",
              "    [theme=dark] .colab-df-convert {\n",
              "      background-color: #3B4455;\n",
              "      fill: #D2E3FC;\n",
              "    }\n",
              "\n",
              "    [theme=dark] .colab-df-convert:hover {\n",
              "      background-color: #434B5C;\n",
              "      box-shadow: 0px 1px 3px 1px rgba(0, 0, 0, 0.15);\n",
              "      filter: drop-shadow(0px 1px 2px rgba(0, 0, 0, 0.3));\n",
              "      fill: #FFFFFF;\n",
              "    }\n",
              "  </style>\n",
              "\n",
              "      <script>\n",
              "        const buttonEl =\n",
              "          document.querySelector('#df-8843a7cb-ac71-4c67-8f8f-83a4038b26a8 button.colab-df-convert');\n",
              "        buttonEl.style.display =\n",
              "          google.colab.kernel.accessAllowed ? 'block' : 'none';\n",
              "\n",
              "        async function convertToInteractive(key) {\n",
              "          const element = document.querySelector('#df-8843a7cb-ac71-4c67-8f8f-83a4038b26a8');\n",
              "          const dataTable =\n",
              "            await google.colab.kernel.invokeFunction('convertToInteractive',\n",
              "                                                     [key], {});\n",
              "          if (!dataTable) return;\n",
              "\n",
              "          const docLinkHtml = 'Like what you see? Visit the ' +\n",
              "            '<a target=\"_blank\" href=https://colab.research.google.com/notebooks/data_table.ipynb>data table notebook</a>'\n",
              "            + ' to learn more about interactive tables.';\n",
              "          element.innerHTML = '';\n",
              "          dataTable['output_type'] = 'display_data';\n",
              "          await google.colab.output.renderOutput(dataTable, element);\n",
              "          const docLink = document.createElement('div');\n",
              "          docLink.innerHTML = docLinkHtml;\n",
              "          element.appendChild(docLink);\n",
              "        }\n",
              "      </script>\n",
              "    </div>\n",
              "  </div>\n",
              "  "
            ]
          },
          "metadata": {},
          "execution_count": 38
        }
      ]
    },
    {
      "cell_type": "code",
      "source": [
        "df[\"ROE\"].hist(figsize=(10,4), bins=50)"
      ],
      "metadata": {
        "colab": {
          "base_uri": "https://localhost:8080/",
          "height": 283
        },
        "outputId": "437607ed-7476-437f-b73a-187fc8ea5eb8",
        "id": "kGYwibhNkVsN"
      },
      "execution_count": 39,
      "outputs": [
        {
          "output_type": "execute_result",
          "data": {
            "text/plain": [
              "<matplotlib.axes._subplots.AxesSubplot at 0x7fb5683abd10>"
            ]
          },
          "metadata": {},
          "execution_count": 39
        },
        {
          "output_type": "display_data",
          "data": {
            "text/plain": [
              "<Figure size 720x288 with 1 Axes>"
            ],
            "image/png": "[encoded data removed]"
          },
          "metadata": {
            "needs_background": "light"
          }
        }
      ]
    },
    {
      "cell_type": "code",
      "source": [
        "# df_roe.drop(df_roe.tail(5).index,inplace=True)\n",
        "# df_gpa.drop(df_gpa.head(5).index,inplace=True)\n",
        "df_roe = df[\"ROE\"][3:-3]\n",
        "df_gpa = df[\"GPA\"][3:-3]"
      ],
      "metadata": {
        "id": "2ppuOuxjAM9m"
      },
      "execution_count": 97,
      "outputs": []
    },
    {
      "cell_type": "code",
      "source": [
        "df_roe = df[\"ROE\"].rank()\n",
        "df_gpa = df[\"GPA\"].rank()"
      ],
      "metadata": {
        "id": "AVBrGnMCkVsN"
      },
      "execution_count": 99,
      "outputs": []
    },
    {
      "cell_type": "code",
      "source": [
        "df_roe.hist(figsize=(10,4), bins=50)"
      ],
      "metadata": {
        "colab": {
          "base_uri": "https://localhost:8080/",
          "height": 283
        },
        "outputId": "471965bf-a59f-4f84-8070-0fe1973b0ecc",
        "id": "xP0rDjP2kVsN"
      },
      "execution_count": 100,
      "outputs": [
        {
          "output_type": "execute_result",
          "data": {
            "text/plain": [
              "<matplotlib.axes._subplots.AxesSubplot at 0x7fb565845c90>"
            ]
          },
          "metadata": {},
          "execution_count": 100
        },
        {
          "output_type": "display_data",
          "data": {
            "text/plain": [
              "<Figure size 720x288 with 1 Axes>"
            ],
            "image/png": "[encoded data removed]"
          },
          "metadata": {
            "needs_background": "light"
          }
        }
      ]
    },
    {
      "cell_type": "code",
      "source": [
        "df_gpa.hist(figsize=(10,4), bins=50)"
      ],
      "metadata": {
        "colab": {
          "base_uri": "https://localhost:8080/",
          "height": 283
        },
        "outputId": "a4b63422-9cf6-4bb1-97ad-a2e7c5e9ced9",
        "id": "riNOAk3zkVsN"
      },
      "execution_count": 101,
      "outputs": [
        {
          "output_type": "execute_result",
          "data": {
            "text/plain": [
              "<matplotlib.axes._subplots.AxesSubplot at 0x7fb565770750>"
            ]
          },
          "metadata": {},
          "execution_count": 101
        },
        {
          "output_type": "display_data",
          "data": {
            "text/plain": [
              "<Figure size 720x288 with 1 Axes>"
            ],
            "image/png": "[encoded data removed]"
          },
          "metadata": {
            "needs_background": "light"
          }
        }
      ]
    },
    {
      "cell_type": "code",
      "source": [
        "# df_roe.drop(df_roe.tail(5).index,inplace=True)\n",
        "# df_gpa.drop(df_gpa.head(5).index,inplace=True)\n",
        "\n",
        "df_roe = df[\"ROE\"][3:-3]\n",
        "df_gpa = df[\"GPA\"][3:-3]\n",
        "df_roe = df[\"ROE\"].rank()\n",
        "df_gpa = df[\"GPA\"].rank()\n",
        "df_roe = pd.Series(ss.zscore(df_roe))\n",
        "df_gpa = pd.Series(ss.zscore(df_gpa))"
      ],
      "metadata": {
        "id": "vw6TyLEYkVsO"
      },
      "execution_count": 108,
      "outputs": []
    },
    {
      "cell_type": "code",
      "source": [
        "df_roe.hist(figsize=(10,4), bins=50)"
      ],
      "metadata": {
        "colab": {
          "base_uri": "https://localhost:8080/",
          "height": 283
        },
        "outputId": "d506e40d-94da-4b07-a01d-31b2c664938a",
        "id": "1aNZaT36kVsO"
      },
      "execution_count": 109,
      "outputs": [
        {
          "output_type": "execute_result",
          "data": {
            "text/plain": [
              "<matplotlib.axes._subplots.AxesSubplot at 0x7fb5653c4690>"
            ]
          },
          "metadata": {},
          "execution_count": 109
        },
        {
          "output_type": "display_data",
          "data": {
            "text/plain": [
              "<Figure size 720x288 with 1 Axes>"
            ],
            "image/png": "[encoded data removed]"
          },
          "metadata": {
            "needs_background": "light"
          }
        }
      ]
    },
    {
      "cell_type": "code",
      "source": [
        "df_gpa.hist(figsize=(10,4), bins=50)"
      ],
      "metadata": {
        "colab": {
          "base_uri": "https://localhost:8080/",
          "height": 283
        },
        "outputId": "9b5e7da6-a2cf-4548-9327-9cad93d987e4",
        "id": "GXjdLALLkVsO"
      },
      "execution_count": 51,
      "outputs": [
        {
          "output_type": "execute_result",
          "data": {
            "text/plain": [
              "<matplotlib.axes._subplots.AxesSubplot at 0x7fb568252c50>"
            ]
          },
          "metadata": {},
          "execution_count": 51
        },
        {
          "output_type": "display_data",
          "data": {
            "text/plain": [
              "<Figure size 720x288 with 1 Axes>"
            ],
            "image/png": "[encoded data removed]"
          },
          "metadata": {
            "needs_background": "light"
          }
        }
      ]
    },
    {
      "cell_type": "code",
      "source": [
        "df_quality = df_roe*0.5+df_gpa*0.5"
      ],
      "metadata": {
        "id": "2qluOwo89SXk"
      },
      "execution_count": 52,
      "outputs": []
    },
    {
      "cell_type": "code",
      "source": [
        "df_quality.hist(figsize=(10,4), bins=50)"
      ],
      "metadata": {
        "colab": {
          "base_uri": "https://localhost:8080/",
          "height": 283
        },
        "id": "jer2QJpQ9ev1",
        "outputId": "101b6908-4ede-4251-b6c5-5071991fd7df"
      },
      "execution_count": 53,
      "outputs": [
        {
          "output_type": "execute_result",
          "data": {
            "text/plain": [
              "<matplotlib.axes._subplots.AxesSubplot at 0x7fb5682a8450>"
            ]
          },
          "metadata": {},
          "execution_count": 53
        },
        {
          "output_type": "display_data",
          "data": {
            "text/plain": [
              "<Figure size 720x288 with 1 Axes>"
            ],
            "image/png": "[encoded data removed]"
          },
          "metadata": {
            "needs_background": "light"
          }
        }
      ]
    },
    {
      "cell_type": "code",
      "source": [
        "df_per = df[\"PER\"].rank()\n",
        "df_pbr = df[\"PBR\"].rank()\n",
        "df_per = pd.Series(ss.zscore(df_per))\n",
        "df_pbr = pd.Series(ss.zscore(df_pbr))\n",
        "df_value = df_pbr*0.5+df_per*0.5"
      ],
      "metadata": {
        "id": "tUg0b452-vc1"
      },
      "execution_count": 104,
      "outputs": []
    },
    {
      "cell_type": "code",
      "source": [
        "df_value.hist(figsize=(10,4), bins=50)"
      ],
      "metadata": {
        "colab": {
          "base_uri": "https://localhost:8080/",
          "height": 283
        },
        "id": "0ZO7hHk4-71r",
        "outputId": "da60759c-5a1f-4574-8d14-58aab337299b"
      },
      "execution_count": 105,
      "outputs": [
        {
          "output_type": "execute_result",
          "data": {
            "text/plain": [
              "<matplotlib.axes._subplots.AxesSubplot at 0x7fb565a922d0>"
            ]
          },
          "metadata": {},
          "execution_count": 105
        },
        {
          "output_type": "display_data",
          "data": {
            "text/plain": [
              "<Figure size 720x288 with 1 Axes>"
            ],
            "image/png": "[encoded data removed]"
          },
          "metadata": {
            "needs_background": "light"
          }
        }
      ]
    }
  ]
}